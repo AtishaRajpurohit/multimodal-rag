{
 "cells": [
  {
   "cell_type": "markdown",
   "id": "b73c7d65",
   "metadata": {},
   "source": [
    "## Uploading one image to reference image collection on Qdrant"
   ]
  },
  {
   "cell_type": "code",
   "execution_count": 23,
   "id": "bca247f5",
   "metadata": {},
   "outputs": [],
   "source": [
    "from qdrant_client import QdrantClient, models\n",
    "import os\n",
    "import cv2\n",
    "from deepface import DeepFace\n",
    "import time\n"
   ]
  },
  {
   "cell_type": "code",
   "execution_count": 6,
   "id": "e07c9352",
   "metadata": {},
   "outputs": [],
   "source": [
    "#Read Image, embed and store on qdrant\n",
    "image_path=\"data/reference_images_faces/face_6_FullSizeRender.HEIC.jpg\"\n",
    "image=cv2.imread(image_path)"
   ]
  },
  {
   "cell_type": "code",
   "execution_count": 8,
   "id": "bf39ff59",
   "metadata": {},
   "outputs": [],
   "source": [
    "#Embed\n",
    "results=DeepFace.represent(img_path=image_path,model_name=\"ArcFace\",detector_backend=\"retinaface\",enforce_detection=True,align=True,normalization=\"base\")"
   ]
  },
  {
   "cell_type": "code",
   "execution_count": 17,
   "id": "27bb6878",
   "metadata": {},
   "outputs": [],
   "source": [
    "#Store on Qdrant\n",
    "client=QdrantClient(url=\"http://localhost:6333\")\n"
   ]
  },
  {
   "cell_type": "code",
   "execution_count": 19,
   "id": "10555d4d",
   "metadata": {},
   "outputs": [],
   "source": [
    "point = models.PointStruct(\n",
    "    id=1,\n",
    "    vector=results[0][\"embedding\"],\n",
    "    payload={\n",
    "        \"label\": \"Atisha\"\n",
    "    }\n",
    ")"
   ]
  },
  {
   "cell_type": "code",
   "execution_count": 22,
   "id": "f86e2f54",
   "metadata": {},
   "outputs": [
    {
     "data": {
      "text/plain": [
       "UpdateResult(operation_id=0, status=<UpdateStatus.COMPLETED: 'completed'>)"
      ]
     },
     "execution_count": 22,
     "metadata": {},
     "output_type": "execute_result"
    }
   ],
   "source": [
    "client.create_collection(\n",
    "    collection_name=\"ref_image_test1\",\n",
    "    vectors_config=models.VectorParams(size=512, distance=models.Distance.COSINE)\n",
    ")\n",
    "client.upsert(collection_name=\"ref_image_test1\",points=[point])"
   ]
  },
  {
   "cell_type": "code",
   "execution_count": null,
   "id": "4c456dd0",
   "metadata": {},
   "outputs": [
    {
     "name": "stderr",
     "output_type": "stream",
     "text": [
      "2025-10-14 17:27:27.619 python[16265:4652132] WARNING: AVCaptureDeviceTypeExternal is deprecated for Continuity Cameras. Please use AVCaptureDeviceTypeContinuityCamera and add NSCameraUseContinuityCameraDeviceType to your Info.plist.\n"
     ]
    },
    {
     "name": "stdout",
     "output_type": "stream",
     "text": [
      "Screenshot\n",
      "Screenshot\n",
      "Screenshot\n",
      "Escape hit, closing...\n"
     ]
    },
    {
     "ename": "",
     "evalue": "",
     "output_type": "error",
     "traceback": [
      "\u001b[1;31mThe Kernel crashed while executing code in the current cell or a previous cell. \n",
      "\u001b[1;31mPlease review the code in the cell(s) to identify a possible cause of the failure. \n",
      "\u001b[1;31mClick <a href='https://aka.ms/vscodeJupyterKernelCrash'>here</a> for more info. \n",
      "\u001b[1;31mView Jupyter <a href='command:jupyter.viewOutput'>log</a> for further details."
     ]
    }
   ],
   "source": [
    "#Click an image, embed it, store it in Qdrant and do a match!\n",
    "    #Passing a constant 0, to start out webcam\n",
    "cam=cv2.VideoCapture(0)\n",
    "cv2.namedWindow(\"Python Webcam Screenshot\")\n",
    "img_counter = 0\n",
    "\n",
    "try:\n",
    "    while True:\n",
    "        ret,frame = cam.read()\n",
    "        if not ret:\n",
    "            print(\"failed to grab frame\")\n",
    "            break\n",
    "        cv2.imshow(\"Python Webcam Screenshot\",frame)\n",
    "        k = cv2.waitKey(1)\n",
    "        if k%256 == 27:\n",
    "            # ESC pressed\n",
    "            print(\"Escape hit, closing...\")\n",
    "            break\n",
    "\n",
    "        elif k%256 == 32:\n",
    "            # SPACE pressed\n",
    "            img_name = \"opencv_frame_{}.png\".format(img_counter)\n",
    "            cv2.imwrite(img_name,frame)\n",
    "            print(\"Screenshot\")\n",
    "            img_counter += 1\n",
    "\n",
    "except KeyboardInterrupt:\n",
    "    print(\"KeyboardInterrupt\")\n",
    "    \n",
    "finally:\n",
    "    cam.release()\n",
    "    cv2.destroyAllWindows()\n",
    "\n",
    "\n"
   ]
  }
 ],
 "metadata": {
  "kernelspec": {
   "display_name": ".venv",
   "language": "python",
   "name": "python3"
  },
  "language_info": {
   "codemirror_mode": {
    "name": "ipython",
    "version": 3
   },
   "file_extension": ".py",
   "mimetype": "text/x-python",
   "name": "python",
   "nbconvert_exporter": "python",
   "pygments_lexer": "ipython3",
   "version": "3.12.9"
  }
 },
 "nbformat": 4,
 "nbformat_minor": 5
}
