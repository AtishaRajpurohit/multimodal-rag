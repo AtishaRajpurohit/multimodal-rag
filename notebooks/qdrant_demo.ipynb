{
  "cells": [
    {
      "cell_type": "markdown",
      "metadata": {},
      "source": [
        "# Qdrant Vector Database Demo\n",
        "\n",
        "## Overview\n",
        "This notebook demonstrates how to:\n",
        "- Set up and run Qdrant using Docker\n",
        "- Connect to Qdrant using the Python client\n",
        "- Create collections for vector storage\n",
        "- Upload and search vector data\n",
        "- Perform basic vector database operations\n",
        "\n",
        "## Prerequisites\n",
        "- Docker installed and running\n",
        "- Python environment with `qdrant-client` package\n",
        "- Basic understanding of vector databases\n",
        "\n",
        "---\n"
      ]
    },
    {
      "cell_type": "markdown",
      "metadata": {},
      "source": [
        "## Step 1: Docker Setup\n",
        "\n",
        "### Running Qdrant with Docker\n",
        "\n",
        "Before we can use Qdrant, we need to start the Qdrant server using Docker. Run the following command in your terminal:\n",
        "\n",
        "```bash\n",
        "docker run -p 6333:6333 -p 6334:6334 \\\n",
        "    -v \"$(pwd)/qdrant_storage:/qdrant/storage:z\" \\\n",
        "    qdrant/qdrant\n",
        "```\n",
        "\n",
        "**What this command does:**\n",
        "- `-p 6333:6333`: Maps port 6333 (HTTP/REST API) from container to host\n",
        "- `-p 6334:6334`: Maps port 6334 (gRPC API) from container to host  \n",
        "- `-v \"$(pwd)/qdrant_storage:/qdrant/storage:z\"`: Mounts a local directory for persistent storage\n",
        "- `qdrant/qdrant`: Uses the official Qdrant Docker image\n",
        "\n",
        "**Expected output:**\n",
        "- Qdrant logo and version information\n",
        "- Web UI available at: http://localhost:6333/dashboard\n",
        "- Server listening on ports 6333 and 6334\n",
        "\n",
        "---\n"
      ]
    },
    {
      "cell_type": "markdown",
      "metadata": {},
      "source": [
        "## Step 2: Python Client Setup\n",
        "\n",
        "### Installing the Qdrant Client\n",
        "\n",
        "First, make sure you have the `qdrant-client` package installed in your environment:\n",
        "\n",
        "```bash\n",
        "# Using pip\n",
        "pip install qdrant-client\n",
        "\n",
        "# Using uv (recommended for this project)\n",
        "uv add qdrant-client\n",
        "```\n",
        "\n",
        "### Importing and Connecting to Qdrant\n",
        "\n",
        "Now let's import the client and establish a connection to our running Qdrant instance.\n"
      ]
    },
    {
      "cell_type": "code",
      "execution_count": null,
      "metadata": {},
      "outputs": [],
      "source": [
        "# Import the Qdrant client\n",
        "from qdrant_client import QdrantClient\n",
        "\n",
        "# Create a client connection to the local Qdrant instance\n",
        "# Port 6333 is the HTTP/REST API endpoint\n",
        "client = QdrantClient(url=\"http://localhost:6333\")\n",
        "\n",
        "# Test the connection by getting server info\n",
        "try:\n",
        "    collections = client.get_collections()\n",
        "    print(\"✅ Successfully connected to Qdrant!\")\n",
        "    print(f\"📊 Current collections: {len(collections.collections)}\")\n",
        "    print(f\"🔗 Server URL: http://localhost:6333\")\n",
        "    print(f\"🌐 Web UI: http://localhost:6333/dashboard\")\n",
        "except Exception as e:\n",
        "    print(f\"❌ Connection failed: {e}\")\n",
        "    print(\"Make sure Qdrant is running with: docker run -p 6333:6333 qdrant/qdrant\")\n"
      ]
    },
    {
      "cell_type": "code",
      "execution_count": 34,
      "metadata": {},
      "outputs": [
        {
          "data": {
            "text/plain": [
              "True"
            ]
          },
          "execution_count": 34,
          "metadata": {},
          "output_type": "execute_result"
        }
      ],
      "source": [
        "\n",
        "client.create_collection(\n",
        "    collection_name='my_collection',\n",
        "    vectors_config={\n",
        "        \"size\":384,\n",
        "        \"distance\":\"Cosine\"\n",
        "    }    )"
      ]
    },
    {
      "cell_type": "code",
      "execution_count": 35,
      "metadata": {},
      "outputs": [
        {
          "name": "stdout",
          "output_type": "stream",
          "text": [
            "✅ Uploaded 2 points to collection\n"
          ]
        }
      ],
      "source": [
        "import numpy as np\n",
        "\n",
        "# Create simple sample data\n",
        "points = [\n",
        "    {\n",
        "        \"id\": 1,\n",
        "        \"vector\": np.random.randn(384).tolist(),  # Random 384-dim vector\n",
        "        \"payload\": {\"text\": \"Machine learning is awesome\", \"category\": \"AI\"}\n",
        "    },\n",
        "    {\n",
        "        \"id\": 2,\n",
        "        \"vector\": np.random.randn(384).tolist(),  # Random 384-dim vector\n",
        "        \"payload\": {\"text\": \"Python is great for data science\", \"category\": \"Programming\"}\n",
        "    }\n",
        "]\n",
        "\n",
        "# Upload points to collection\n",
        "client.upsert(collection_name='my_collection', points=points)\n",
        "print(f\"✅ Uploaded {len(points)} points to collection\")\n"
      ]
    },
    {
      "cell_type": "markdown",
      "metadata": {},
      "source": [
        "## Step 5: Search\n"
      ]
    },
    {
      "cell_type": "code",
      "execution_count": 37,
      "metadata": {},
      "outputs": [
        {
          "name": "stdout",
          "output_type": "stream",
          "text": [
            "Score: 0.040 | Text: Python is great for data science\n",
            "Score: -0.074 | Text: Machine learning is awesome\n"
          ]
        },
        {
          "name": "stderr",
          "output_type": "stream",
          "text": [
            "/var/folders/p_/53rzshtx2lb_c4blf251m6d40000gn/T/ipykernel_23309/3027129300.py:3: DeprecationWarning: `search` method is deprecated and will be removed in the future. Use `query_points` instead.\n",
            "  results = client.search(\n"
          ]
        }
      ],
      "source": [
        "# Create query vector and search\n",
        "query_vector = np.random.randn(384).tolist()\n",
        "results = client.search(\n",
        "    collection_name='my_collection',\n",
        "    query_vector=query_vector,\n",
        "    limit=2\n",
        ")\n",
        "\n",
        "# Display results\n",
        "for result in results:\n",
        "    print(f\"Score: {result.score:.3f} | Text: {result.payload['text']}\")\n"
      ]
    },
    {
      "cell_type": "code",
      "execution_count": null,
      "metadata": {},
      "outputs": [],
      "source": [
        "#Checking how the values are stored\n"
      ]
    }
  ],
  "metadata": {
    "kernelspec": {
      "display_name": ".venv",
      "language": "python",
      "name": "python3"
    },
    "language_info": {
      "name": "python",
      "version": "3.12.9"
    }
  },
  "nbformat": 4,
  "nbformat_minor": 2
}
