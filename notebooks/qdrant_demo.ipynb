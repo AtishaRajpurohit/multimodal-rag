{
  "cells": [
    {
      "cell_type": "markdown",
      "metadata": {},
      "source": [
        "# Qdrant Quick Demo\n",
        "\n",
        "Simple collection creation and data insertion.\n"
      ]
    },
    {
      "cell_type": "code",
      "execution_count": 15,
      "metadata": {},
      "outputs": [],
      "source": [
        "# Import Qdrant client\n",
        "from qdrant_client import QdrantClient\n",
        "import numpy as np\n",
        "\n",
        "# Connect to local Qdrant instance\n",
        "client = QdrantClient(url=\"http://localhost:6333\")\n",
        "\n"
      ]
    },
    {
      "cell_type": "code",
      "execution_count": null,
      "metadata": {},
      "outputs": [],
      "source": [
        "# Let's explore what's inside each ScoredPoint\n",
        "print(\"🔍 Exploring ScoredPoint structure:\")\n",
        "print(\"=\" * 50)\n",
        "\n",
        "for i, result in enumerate(results):\n",
        "    print(f\"\\n📊 Result {i+1}:\")\n",
        "    print(f\"   Type: {type(result)}\")\n",
        "    print(f\"   ID: {result.id}\")\n",
        "    print(f\"   Score: {result.score}\")\n",
        "    print(f\"   Payload: {result.payload}\")\n",
        "    print(f\"   Vector length: {len(result.vector)}\")\n",
        "    \n",
        "    # Access individual payload fields\n",
        "    print(f\"   Text: {result.payload['text']}\")\n",
        "    print(f\"   Category: {result.payload['category']}\")\n",
        "    \n",
        "    # Show first few vector dimensions\n",
        "    print(f\"   Vector sample: {result.vector[:5]}...\")\n"
      ]
    },
    {
      "cell_type": "code",
      "execution_count": null,
      "metadata": {},
      "outputs": [],
      "source": [
        "# Alternative ways to access ScoredPoint data\n",
        "print(\"🛠️  Different ways to access ScoredPoint data:\")\n",
        "print(\"=\" * 50)\n",
        "\n",
        "# Method 1: Direct attribute access\n",
        "first_result = results[0]\n",
        "print(f\"Method 1 - Direct access:\")\n",
        "print(f\"   ID: {first_result.id}\")\n",
        "print(f\"   Score: {first_result.score}\")\n",
        "\n",
        "# Method 2: Dictionary-style access for payload\n",
        "print(f\"\\nMethod 2 - Payload access:\")\n",
        "print(f\"   Text: {first_result.payload['text']}\")\n",
        "print(f\"   Category: {first_result.payload['category']}\")\n",
        "\n",
        "# Method 3: Get all available attributes\n",
        "print(f\"\\nMethod 3 - All attributes:\")\n",
        "print(f\"   Available attributes: {dir(first_result)}\")\n",
        "\n",
        "# Method 4: Convert to dictionary (if needed)\n",
        "print(f\"\\nMethod 4 - Convert to dict:\")\n",
        "result_dict = {\n",
        "    'id': first_result.id,\n",
        "    'score': first_result.score,\n",
        "    'payload': first_result.payload,\n",
        "    'vector_length': len(first_result.vector)\n",
        "}\n",
        "print(f\"   Dict: {result_dict}\")\n"
      ]
    },
    {
      "cell_type": "code",
      "execution_count": null,
      "metadata": {},
      "outputs": [],
      "source": [
        "# Demonstrating different number formatting options\n",
        "import random\n",
        "\n",
        "# Sample scores (typical Qdrant similarity scores)\n",
        "scores = [0.123456789, 0.987654321, 0.5, 0.000123456]\n",
        "\n",
        "print(\"🔢 Number Formatting Examples:\")\n",
        "print(\"=\" * 40)\n",
        "\n",
        "for score in scores:\n",
        "    print(f\"Original: {score}\")\n",
        "    print(f\"  :.3f   → {score:.3f}\")      # 3 decimal places\n",
        "    print(f\"  :.2f   → {score:.2f}\")      # 2 decimal places  \n",
        "    print(f\"  :.1f   → {score:.1f}\")      # 1 decimal place\n",
        "    print(f\"  :.0f   → {score:.0f}\")      # No decimal places\n",
        "    print(f\"  :.6f   → {score:.6f}\")      # 6 decimal places\n",
        "    print(f\"  :.3%   → {score:.3%}\")      # As percentage\n",
        "    print(f\"  :.3e   → {score:.3e}\")      # Scientific notation\n",
        "    print(\"-\" * 30)\n"
      ]
    },
    {
      "cell_type": "code",
      "execution_count": 18,
      "metadata": {},
      "outputs": [
        {
          "data": {
            "text/plain": [
              "True"
            ]
          },
          "execution_count": 18,
          "metadata": {},
          "output_type": "execute_result"
        }
      ],
      "source": [
        "client.create_collection(\n",
        "    collection_name=\"demo_collection\",\n",
        "    vectors_config ={'size':384,\n",
        "                     'distance':\"Cosine\"}\n",
        ")\n",
        "\n",
        "\n"
      ]
    },
    {
      "cell_type": "code",
      "execution_count": 20,
      "metadata": {},
      "outputs": [],
      "source": [
        "\n",
        "# Generate sample vectors and metadata\n",
        "points = [\n",
        "    {\n",
        "        \"id\": 1,\n",
        "        \"vector\": np.random.randn(384).tolist(),  # Random 384-dim vector\n",
        "        \"payload\": {\"text\": \"Machine learning is awesome\", \"category\": \"AI\"}\n",
        "    },\n",
        "    {\n",
        "        \"id\": 2,\n",
        "        \"vector\": np.random.randn(384).tolist(),  # Random 384-dim vector\n",
        "        \"payload\": {\"text\": \"Python is great for data science\", \"category\": \"Programming\"}\n",
        "    }\n",
        "]\n",
        "\n"
      ]
    },
    {
      "cell_type": "code",
      "execution_count": 22,
      "metadata": {},
      "outputs": [
        {
          "data": {
            "text/plain": [
              "UpdateResult(operation_id=1, status=<UpdateStatus.COMPLETED: 'completed'>)"
            ]
          },
          "execution_count": 22,
          "metadata": {},
          "output_type": "execute_result"
        }
      ],
      "source": [
        "# Insert points into the collection\n",
        "client.upsert(collection_name=\"demo_collection\", points=points)"
      ]
    },
    {
      "cell_type": "code",
      "execution_count": 23,
      "metadata": {},
      "outputs": [
        {
          "name": "stderr",
          "output_type": "stream",
          "text": [
            "/var/folders/p_/53rzshtx2lb_c4blf251m6d40000gn/T/ipykernel_23309/2666329683.py:3: DeprecationWarning: `search` method is deprecated and will be removed in the future. Use `query_points` instead.\n",
            "  results = client.search(\n"
          ]
        }
      ],
      "source": [
        "# Search for similar vectors\n",
        "query_vector = np.random.randn(384).tolist()  # Random query vector\n",
        "results = client.search(\n",
        "    collection_name=\"demo_collection\",\n",
        "    query_vector=query_vector,\n",
        "    limit=2\n",
        ")"
      ]
    },
    {
      "cell_type": "code",
      "execution_count": 24,
      "metadata": {},
      "outputs": [
        {
          "name": "stdout",
          "output_type": "stream",
          "text": [
            "Score: -0.004 | Text: Machine learning is awesome\n",
            "Score: -0.172 | Text: Python is great for data science\n"
          ]
        }
      ],
      "source": [
        "# Display results\n",
        "for result in results:\n",
        "    print(f\"Score: {result.score:.3f} | Text: {result.payload['text']}\")\n"
      ]
    },
    {
      "cell_type": "code",
      "execution_count": 30,
      "metadata": {},
      "outputs": [
        {
          "name": "stdout",
          "output_type": "stream",
          "text": [
            "ID :1',  Score: -0.172\n",
            "Text: Python is great for data science\n",
            "id=1 version=1 score=-0.0043940432 payload={'text': 'Machine learning is awesome', 'category': 'AI'} vector=None shard_key=None order_value=None\n",
            "ID :2',  Score: -0.172\n",
            "Text: Python is great for data science\n",
            "id=2 version=1 score=-0.17185432 payload={'text': 'Python is great for data science', 'category': 'Programming'} vector=None shard_key=None order_value=None\n"
          ]
        }
      ],
      "source": [
        "# \n",
        "for i in results:\n",
        "    print(f\"ID :{i.id}',  Score: {result.score:.3f}\")\n",
        "    print(f\"Text: {result.payload['text']}\")\n",
        "    print(i)\n",
        "# Every element has an id, score, payload and vector in it. "
      ]
    },
    {
      "cell_type": "code",
      "execution_count": 31,
      "metadata": {},
      "outputs": [],
      "source": [
        "high_similarity = [r for r in results if r.score > 0.5]\n",
        "#→ “For each r in results, put r into the new list if r.score > 0.5.”"
      ]
    },
    {
      "cell_type": "code",
      "execution_count": null,
      "metadata": {},
      "outputs": [],
      "source": []
    }
  ],
  "metadata": {
    "language_info": {
      "name": "python"
    }
  },
  "nbformat": 4,
  "nbformat_minor": 2
}
