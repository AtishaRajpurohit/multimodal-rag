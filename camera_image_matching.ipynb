{
 "cells": [
  {
   "cell_type": "markdown",
   "id": "b73c7d65",
   "metadata": {},
   "source": [
    "## Uploading one image to reference image collection on Qdrant"
   ]
  },
  {
   "cell_type": "code",
   "execution_count": 7,
   "id": "bca247f5",
   "metadata": {},
   "outputs": [],
   "source": [
    "from qdrant_client import QdrantClient, models\n",
    "import os\n",
    "import cv2\n",
    "from deepface import DeepFace\n",
    "import time\n",
    "client = QdrantClient(url=\"http://localhost:6333\")"
   ]
  },
  {
   "cell_type": "code",
   "execution_count": 7,
   "id": "10555d4d",
   "metadata": {},
   "outputs": [],
   "source": [
    "point = models.PointStruct(\n",
    "    id=1,\n",
    "    vector=results[0][\"embedding\"],\n",
    "    payload={\n",
    "        \"label\": \"Atisha\"\n",
    "    }\n",
    ")"
   ]
  },
  {
   "cell_type": "code",
   "execution_count": null,
   "id": "d66df4aa",
   "metadata": {},
   "outputs": [],
   "source": [
    "def store_face_embedding(image_path: str,collection_name: str,label: str):\n",
    "    '''Reads an image, uses DeepFace (Retinaface + Arcface to detect and embed, create a point and upload to Qdrant.)'''\n",
    "\n",
    "    image = cv2.imread(image_path)\n",
    "    if image is None:\n",
    "        logger.error(f\"Image not found at {image_path}\")\n",
    "        return\n",
    "    \n",
    "    try:\n",
    "        result = DeepFace.represent(\n",
    "            img_path=image_path,\n",
    "            model_name=\"ArcFace\",\n",
    "            detector_backend=\"retinaface\",\n",
    "            enforce_detection=True,\n",
    "            align=True,\n",
    "            normalization=\"base\"\n",
    "        )\n",
    "\n",
    "    except Exception as e:\n",
    "        logger.error(f\"Error extracting face embedding for {image_path}: {e}\")\n",
    "        return None\n",
    "\n",
    "    embedding = result[0][\"embedding\"]\n",
    "\n",
    "    #What does this do ? \n",
    "    collections = [c.name for c in client.get_collections().collections]\n",
    "    print(collections)\n",
    "    print(client.get_collections())\n",
    "    "
   ]
  },
  {
   "cell_type": "code",
   "execution_count": 11,
   "id": "8e576d07",
   "metadata": {},
   "outputs": [
    {
     "name": "stdout",
     "output_type": "stream",
     "text": [
      "['ref_image_test1', 'face_embeddings']\n",
      "collections=[CollectionDescription(name='ref_image_test1'), CollectionDescription(name='face_embeddings')]\n"
     ]
    }
   ],
   "source": [
    "image_path = \"data/reference_images_faces/face_6_FullSizeRender.HEIC.jpg\"\n",
    "collection_name = \"faces_collection\"\n",
    "label = \"Atisha\"\n",
    "\n",
    "store_face_embedding(image_path, collection_name, label)"
   ]
  },
  {
   "cell_type": "code",
   "execution_count": null,
   "id": "9ef17de1",
   "metadata": {},
   "outputs": [],
   "source": [
    "from qdrant_client import QdrantClient, models\n",
    "import os\n",
    "import cv2\n",
    "from deepface import DeepFace\n",
    "import time\n",
    "client = QdrantClient(url=\"http://localhost:6333\")"
   ]
  },
  {
   "cell_type": "code",
   "execution_count": null,
   "id": "cb482c52",
   "metadata": {},
   "outputs": [],
   "source": [
    "#Read Image, embed and store on qdrant\n",
    "image_path=\"data/reference_images_faces/face_6_FullSizeRender.HEIC.jpg\"\n",
    "image=cv2.imread(image_path)"
   ]
  },
  {
   "cell_type": "code",
   "execution_count": null,
   "id": "486f6dcd",
   "metadata": {},
   "outputs": [],
   "source": [
    "#Embed\n",
    "results=DeepFace.represent(img_path=image_path,model_name=\"ArcFace\",detector_backend=\"retinaface\",enforce_detection=True,align=True,normalization=\"base\")"
   ]
  },
  {
   "cell_type": "code",
   "execution_count": null,
   "id": "6af5dcec",
   "metadata": {},
   "outputs": [],
   "source": [
    "#Store on Qdrant\n",
    "client=QdrantClient(url=\"http://localhost:6333\")\n"
   ]
  },
  {
   "cell_type": "code",
   "execution_count": null,
   "id": "15e2fdbf",
   "metadata": {},
   "outputs": [],
   "source": [
    "point = models.PointStruct(\n",
    "    id=1,\n",
    "    vector=results[0][\"embedding\"],\n",
    "    payload={\n",
    "        \"label\": \"Atisha\"\n",
    "    }\n",
    ")"
   ]
  },
  {
   "cell_type": "code",
   "execution_count": null,
   "id": "fa090886",
   "metadata": {},
   "outputs": [
    {
     "name": "stdout",
     "output_type": "stream",
     "text": [
      "['ref_image_test1', 'face_embeddings']\n",
      "collections=[CollectionDescription(name='ref_image_test1'), CollectionDescription(name='face_embeddings')]\n"
     ]
    }
   ],
   "source": []
  }
 ],
 "metadata": {
  "kernelspec": {
   "display_name": ".venv",
   "language": "python",
   "name": "python3"
  },
  "language_info": {
   "codemirror_mode": {
    "name": "ipython",
    "version": 3
   },
   "file_extension": ".py",
   "mimetype": "text/x-python",
   "name": "python",
   "nbconvert_exporter": "python",
   "pygments_lexer": "ipython3",
   "version": "3.12.9"
  }
 },
 "nbformat": 4,
 "nbformat_minor": 5
}
