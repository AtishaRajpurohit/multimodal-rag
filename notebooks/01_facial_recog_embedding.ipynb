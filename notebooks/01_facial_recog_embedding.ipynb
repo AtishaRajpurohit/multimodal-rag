{
 "cells": [
  {
   "cell_type": "markdown",
   "id": "e357a297",
   "metadata": {},
   "source": [
    "# Facial Recognition & Vector Database Pipeline\n",
    "\n",
    "## Table of Contents\n",
    "1. [Setup & Imports](#setup--imports)\n",
    "2. [Face Detection Function](#face-detection-function)\n",
    "3. [Test Face Detection](#test-face-detection)\n",
    "4. [Upload to Qdrant Function](#upload-to-qdrant-function)\n",
    "5. [Run Pipeline](#run-pipeline)\n",
    "6. [Face Count Analysis](#face-count-analysis)\n"
   ]
  },
  {
   "cell_type": "markdown",
   "id": "daf47833",
   "metadata": {},
   "source": [
    "## Setup & Imports\n",
    "Import required libraries for face detection and vector database operations.\n"
   ]
  },
  {
   "cell_type": "code",
   "execution_count": null,
   "id": "ebd45698",
   "metadata": {},
   "outputs": [],
   "source": [
    "# Core libraries\n",
    "import os\n",
    "import glob\n",
    "import uuid\n",
    "import cv2\n",
    "\n",
    "# DeepFace for face detection + embeddings\n",
    "from deepface import DeepFace\n",
    "\n",
    "# Qdrant client\n",
    "from qdrant_client import QdrantClient\n",
    "from qdrant_client.http import models"
   ]
  },
  {
   "cell_type": "markdown",
   "id": "7eadbca1",
   "metadata": {},
   "source": [
    "## I Image Preprocessing Function : \n",
    "This function takes in images of different formats (.JPG, .HEIC, etc. ) and then converts it into a CV2 format, which is accessible for DeepFace \n",
    "Input : Image Path\n",
    "Output : Image in a Pillow or CV2 format"
   ]
  },
  {
   "cell_type": "code",
   "execution_count": null,
   "id": "b124a1a3",
   "metadata": {},
   "outputs": [],
   "source": []
  },
  {
   "cell_type": "markdown",
   "id": "7cd85e39",
   "metadata": {},
   "source": [
    "## Face Detection Function\n",
    "Extract face crops and embeddings from images using DeepFace (RetinaFace + ArcFace).\n"
   ]
  },
  {
   "cell_type": "code",
   "execution_count": 2,
   "id": "ecb70644",
   "metadata": {},
   "outputs": [],
   "source": [
    "def extract_faces_and_embeddings(image_path):\n",
    "    \"\"\"\n",
    "    Extract face crops + embeddings for a single image.\n",
    "    Uses DeepFace (RetinaFace + ArcFace under the hood).\n",
    "    \"\"\"\n",
    "    img = cv2.imread(image_path)\n",
    "    results = DeepFace.represent(\n",
    "        img_path=image_path,\n",
    "        model_name=\"ArcFace\",\n",
    "        detector_backend=\"retinaface\",\n",
    "        enforce_detection=False\n",
    "    )\n",
    "\n",
    "    output = []\n",
    "    for res in results:\n",
    "        fa = res[\"facial_area\"]\n",
    "        x, y, w, h = fa[\"x\"], fa[\"y\"], fa[\"w\"], fa[\"h\"]\n",
    "        face_crop = img[y:y+h, x:x+w]\n",
    "        output.append({\n",
    "            \"face_crop\": face_crop,\n",
    "            \"embedding\": res[\"embedding\"]\n",
    "        })\n",
    "    return output\n"
   ]
  },
  {
   "cell_type": "markdown",
   "id": "a3d59aef",
   "metadata": {},
   "source": [
    "## Test Face Detection\n",
    "Test the face detection function on sample images to verify it works.\n"
   ]
  },
  {
   "cell_type": "code",
   "execution_count": 34,
   "id": "9a435f31",
   "metadata": {},
   "outputs": [
    {
     "name": "stdout",
     "output_type": "stream",
     "text": [
      "Found 2 images: ['../data/query_images/27c3e45a-57a4-473a-a927-ccb5f048de12.JPG', '../data/query_images/query.JPG']\n",
      "Faces detected: 4\n"
     ]
    }
   ],
   "source": [
    "# Test with the correct path\n",
    "parent_dir = \"../data/query_images/\"\n",
    "collection_name = \"faces_collection\"\n",
    "\n",
    "# First, test if we can find images\n",
    "image_paths = glob.glob(os.path.join(parent_dir, \"*.[jJpP][pPnN]*[gG]\"))\n",
    "print(f\"Found {len(image_paths)} images: {image_paths}\")\n",
    "\n",
    "# Test face detection on first image\n",
    "if image_paths:\n",
    "    test_faces = extract_faces_and_embeddings(image_paths[0])\n",
    "    print(f\"Faces detected: {len(test_faces)}\")\n"
   ]
  },
  {
   "cell_type": "markdown",
   "id": "74ed6aba",
   "metadata": {},
   "source": [
    "## Upload to Qdrant Function\n",
    "Process all images in a directory and upload face embeddings to Qdrant vector database.\n"
   ]
  },
  {
   "cell_type": "code",
   "execution_count": 35,
   "id": "aa0f39ed",
   "metadata": {},
   "outputs": [],
   "source": [
    "def push_directory_to_qdrant(parent_dir, collection_name, qdrant_url=\"http://localhost:6333\"):\n",
    "    \"\"\"\n",
    "    Loop through all images in parent directory, extract embeddings, push to Qdrant.\n",
    "    Each face gets its own vector with image metadata in payload.\n",
    "    \"\"\"\n",
    "    client = QdrantClient(url=qdrant_url)\n",
    "\n",
    "    # Create / reset collection (ArcFace = 512 dims)\n",
    "    client.recreate_collection(\n",
    "        collection_name=collection_name,\n",
    "        vectors_config=models.VectorParams(size=512, distance=models.Distance.COSINE)\n",
    "    )\n",
    "\n",
    "    # Collect all images in folder\n",
    "    image_paths = glob.glob(os.path.join(parent_dir, \"*.[jJpP][pPnN]*[gG]\"))\n",
    "    print(f\"🔍 Found {len(image_paths)} images\")\n",
    "\n",
    "    all_points = []\n",
    "    for image_id, image_path in enumerate(image_paths, start=1):\n",
    "        print(f\"\\n🖼️  Processing image {image_id}: {os.path.basename(image_path)}\")\n",
    "        \n",
    "        try:\n",
    "            faces = extract_faces_and_embeddings(image_path)\n",
    "            print(f\"   ✅ Found {len(faces)} faces\")\n",
    "            \n",
    "            for face_idx, face in enumerate(faces):\n",
    "                # Generate proper UUID\n",
    "                point_id = str(uuid.uuid4())\n",
    "                print(f\"   📝 Adding face {face_idx + 1} with ID: {point_id}\")\n",
    "                \n",
    "                all_points.append(models.PointStruct(\n",
    "                    id=point_id,  # Proper UUID\n",
    "                    vector=face[\"embedding\"],\n",
    "                    payload={\n",
    "                        \"image_id\": image_id,\n",
    "                        \"image_url\": os.path.abspath(image_path),\n",
    "                        \"face_index\": face_idx\n",
    "                    }\n",
    "                ))\n",
    "        except Exception as e:\n",
    "            print(f\"   ❌ Error processing {image_path}: {e}\")\n",
    "\n",
    "    print(f\"\\n📊 Total points collected: {len(all_points)}\")\n",
    "    \n",
    "    if len(all_points) == 0:\n",
    "        print(\"❌ No points to upload!\")\n",
    "        return\n",
    "\n",
    "    # Upload to Qdrant\n",
    "    print(f\"⬆️  Uploading {len(all_points)} points to Qdrant...\")\n",
    "    client.upsert(collection_name=collection_name, points=all_points)\n",
    "\n",
    "    print(f\"✅ Inserted {len(all_points)} faces from {len(image_paths)} images into collection '{collection_name}'\")\n"
   ]
  },
  {
   "cell_type": "markdown",
   "id": "0662482d",
   "metadata": {},
   "source": [
    "## Run Pipeline\n",
    "Execute the complete pipeline to process images and upload to Qdrant.\n"
   ]
  },
  {
   "cell_type": "code",
   "execution_count": 36,
   "id": "2f1a9466",
   "metadata": {},
   "outputs": [
    {
     "name": "stdout",
     "output_type": "stream",
     "text": [
      "📁 Directory: ../data/query_images/\n",
      "📊 Collection: detected_faces_collection\n",
      "🚀 Running push_directory_to_qdrant...\n",
      "🔍 Found 2 images\n",
      "\n",
      "🖼️  Processing image 1: 27c3e45a-57a4-473a-a927-ccb5f048de12.JPG\n",
      "   ✅ Found 4 faces\n",
      "   📝 Adding face 1 with ID: 36c932d2-4635-4cb0-81e4-37da49800eee\n",
      "   📝 Adding face 2 with ID: d3a79381-8230-4456-8829-98d6418b2248\n",
      "   📝 Adding face 3 with ID: 08b8a479-7c2f-4e44-b429-5f0f055f7b95\n",
      "   📝 Adding face 4 with ID: 2f5d7299-cc98-4a63-9f24-16115fb52891\n",
      "\n",
      "🖼️  Processing image 2: query.JPG\n",
      "   ✅ Found 4 faces\n",
      "   📝 Adding face 1 with ID: d89bd7b8-1d4f-4fc0-8fe0-535629f77f92\n",
      "   📝 Adding face 2 with ID: a8cd5a83-8699-431c-9133-af1014c04dd0\n",
      "   📝 Adding face 3 with ID: 6f2ee0ba-d3cf-4cb6-8de1-fb36635b4fbc\n",
      "   📝 Adding face 4 with ID: eb7b978c-7bf9-4d85-a48d-571ef372b2a3\n",
      "\n",
      "📊 Total points collected: 8\n",
      "⬆️  Uploading 8 points to Qdrant...\n",
      "✅ Inserted 8 faces from 2 images into collection 'detected_faces_collection'\n",
      "✅ Function completed!\n"
     ]
    }
   ],
   "source": [
    "# Test with verbose output\n",
    "parent_dir = \"../data/query_images/\"\n",
    "collection_name = \"detected_faces_collection\"\n",
    "\n",
    "print(f\"📁 Directory: {parent_dir}\")\n",
    "print(f\"📊 Collection: {collection_name}\")\n",
    "print(\"🚀 Running push_directory_to_qdrant...\")\n",
    "\n",
    "push_directory_to_qdrant(parent_dir, collection_name)\n",
    "\n",
    "print(\"✅ Function completed!\")\n"
   ]
  },
  {
   "cell_type": "markdown",
   "id": "98fb3faa",
   "metadata": {},
   "source": [
    "## Face Count Analysis\n",
    "Analyze how many faces were detected in each processed image.\n"
   ]
  },
  {
   "cell_type": "code",
   "execution_count": 37,
   "id": "5b1b8e86",
   "metadata": {},
   "outputs": [
    {
     "name": "stdout",
     "output_type": "stream",
     "text": [
      "📊 Faces detected per image:\n",
      "  27c3e45a-57a4-473a-a927-ccb5f048de12.JPG: 4 faces\n",
      "  query.JPG: 4 faces\n"
     ]
    },
    {
     "data": {
      "text/plain": [
       "{'27c3e45a-57a4-473a-a927-ccb5f048de12.JPG': 4, 'query.JPG': 4}"
      ]
     },
     "execution_count": 37,
     "metadata": {},
     "output_type": "execute_result"
    }
   ],
   "source": [
    "def count_faces_per_image(collection_name=\"detected_faces_collection\"):\n",
    "    \"\"\"Count how many faces were detected for each image\"\"\"\n",
    "    client = QdrantClient(url=\"http://localhost:6333\")\n",
    "    \n",
    "    # Get all points\n",
    "    points = client.scroll(collection_name=collection_name, limit=1000)\n",
    "    \n",
    "    # Count faces per image\n",
    "    face_counts = {}\n",
    "    for point in points[0]:\n",
    "        image_url = point.payload['image_url']\n",
    "        image_name = os.path.basename(image_url)\n",
    "        \n",
    "        if image_name not in face_counts:\n",
    "            face_counts[image_name] = 0\n",
    "        face_counts[image_name] += 1\n",
    "    \n",
    "    # Display results\n",
    "    print(\"📊 Faces detected per image:\")\n",
    "    for image_name, count in face_counts.items():\n",
    "        print(f\"  {image_name}: {count} faces\")\n",
    "    \n",
    "    return face_counts\n",
    "\n",
    "# Run it\n",
    "count_faces_per_image()\n"
   ]
  },
  {
   "cell_type": "markdown",
   "id": "74157081",
   "metadata": {},
   "source": [
    "## Rough Notes"
   ]
  },
  {
   "cell_type": "markdown",
   "id": "d9a9ce65",
   "metadata": {},
   "source": [
    "1. The pipeline :\n",
    "A function which takes in the image, applies DeepFace ( which uses retinaface and ArcFace in the background.)\n",
    "Crops for each image, and then for each of those faces embedded those faces. An image is taken a an input and the output is a list of face crops, in whatever way deepface will support it. \n",
    "The function takes in an image_path, and returns a list of dictionaries, where each dictionary corresponds to one detected face. \n",
    "\n",
    "2. Take a list of images pass it into the function 'extract_faces_and_embeddings', get this added to a qdrant collection, where each row point is an image, where the multiple facial embeddings are stored for each image, each record. Also ensure, that these embeddings can be matched with a reference collection. To the payload, add the url for the image, imafe id. "
   ]
  },
  {
   "cell_type": "markdown",
   "id": "75c878c8",
   "metadata": {},
   "source": [
    "## Next Day Notes :\n",
    "1. Add more images. \n",
    "2. Ensure that the same pipeline works.\n",
    "3. See if this can be a reproducible function, so you can use it for reference images! \n",
    "4. Now that you have 2 Qdrant collections, one for reference images and one for query images, you need to perform a vector match, get the names for the reference images, add those names to the payload for the images. Reference_faces_collection for reference faces, and detected_faces_collection for the detected faces. Get to this to perform a vector match.\n",
    "5. Take a good look at the payload for the image. Revisit how many collections!\n"
   ]
  },
  {
   "cell_type": "markdown",
   "id": "002a8682",
   "metadata": {},
   "source": []
  },
  {
   "cell_type": "markdown",
   "id": "027e6db5",
   "metadata": {},
   "source": []
  }
 ],
 "metadata": {
  "kernelspec": {
   "display_name": ".venv",
   "language": "python",
   "name": "python3"
  },
  "language_info": {
   "codemirror_mode": {
    "name": "ipython",
    "version": 3
   },
   "file_extension": ".py",
   "mimetype": "text/x-python",
   "name": "python",
   "nbconvert_exporter": "python",
   "pygments_lexer": "ipython3",
   "version": "3.12.9"
  }
 },
 "nbformat": 4,
 "nbformat_minor": 5
}
