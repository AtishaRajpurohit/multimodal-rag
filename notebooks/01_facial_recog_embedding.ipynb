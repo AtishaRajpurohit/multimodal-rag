{
 "cells": [
  {
   "cell_type": "markdown",
   "id": "d9a9ce65",
   "metadata": {},
   "source": [
    "1. The pipeline :\n",
    "A function which takes in the image, applies DeepFace ( which uses retinaface and ArcFace in the background.)\n",
    "Crops for each image, and then for each of those faces embedded those faces. An image is taken a an input and the output is a list of face crops, in whatever way deepface will support it. \n",
    "The function takes in an image_path, and returns a list of dictionaries, where each dictionary corresponds to one detected face. \n",
    "\n",
    "2. Take a list of images pass it into the function 'extract_faces_and_embeddings', get this added to a qdrant collection, where each row point is an image, where the multiple facial embeddings are stored for each image, each record. Also ensure, that these embeddings can be matched with a reference collection. To the payload, add the url for the image, imafe id. "
   ]
  },
  {
   "cell_type": "code",
   "execution_count": 1,
   "id": "1681fa9a",
   "metadata": {},
   "outputs": [],
   "source": [
    "# Core libraries\n",
    "import os\n",
    "import glob\n",
    "import uuid\n",
    "import cv2\n",
    "\n",
    "# DeepFace for face detection + embeddings\n",
    "from deepface import DeepFace\n",
    "\n",
    "# Qdrant client\n",
    "from qdrant_client import QdrantClient\n",
    "from qdrant_client.http import models\n"
   ]
  },
  {
   "cell_type": "code",
   "execution_count": 2,
   "id": "3089ddda",
   "metadata": {},
   "outputs": [],
   "source": [
    "def extract_faces_and_embeddings(image_path):\n",
    "    \"\"\"\n",
    "    Extract face crops + embeddings for a single image.\n",
    "    Uses DeepFace (RetinaFace + ArcFace under the hood).\n",
    "    \"\"\"\n",
    "    img = cv2.imread(image_path)\n",
    "    results = DeepFace.represent(\n",
    "        img_path=image_path,\n",
    "        model_name=\"ArcFace\",\n",
    "        detector_backend=\"retinaface\",\n",
    "        enforce_detection=False\n",
    "    )\n",
    "\n",
    "    output = []\n",
    "    for res in results:\n",
    "        fa = res[\"facial_area\"]\n",
    "        x, y, w, h = fa[\"x\"], fa[\"y\"], fa[\"w\"], fa[\"h\"]\n",
    "        face_crop = img[y:y+h, x:x+w]\n",
    "        output.append({\n",
    "            \"face_crop\": face_crop,\n",
    "            \"embedding\": res[\"embedding\"]\n",
    "        })\n",
    "    return output\n"
   ]
  },
  {
   "cell_type": "markdown",
   "id": "b2171fb1",
   "metadata": {},
   "source": [
    "The output is a list of dictionaries with Confidence, Facial Area and Embedding for each face. "
   ]
  },
  {
   "cell_type": "code",
   "execution_count": 3,
   "id": "50bdeb7f",
   "metadata": {},
   "outputs": [
    {
     "name": "stdout",
     "output_type": "stream",
     "text": [
      "Found 2 images: ['../data/query_images/27c3e45a-57a4-473a-a927-ccb5f048de12.JPG', '../data/query_images/query.JPG']\n",
      "Faces detected: 4\n"
     ]
    }
   ],
   "source": [
    "# Test with the correct path\n",
    "parent_dir = \"../data/query_images/\"\n",
    "collection_name = \"faces_collection\"\n",
    "\n",
    "# First, test if we can find images\n",
    "image_paths = glob.glob(os.path.join(parent_dir, \"*.[jJpP][pPnN]*[gG]\"))\n",
    "print(f\"Found {len(image_paths)} images: {image_paths}\")\n",
    "\n",
    "# Test face detection on first image\n",
    "if image_paths:\n",
    "    test_faces = extract_faces_and_embeddings(image_paths[0])\n",
    "    print(f\"Faces detected: {len(test_faces)}\")"
   ]
  },
  {
   "cell_type": "code",
   "execution_count": 4,
   "id": "a838e1d2",
   "metadata": {},
   "outputs": [],
   "source": [
    "def push_directory_to_qdrant(parent_dir, collection_name, qdrant_url=\"http://localhost:6333\"):\n",
    "    \"\"\"\n",
    "    Loop through all images in parent directory, extract embeddings, push to Qdrant.\n",
    "    Each face gets its own vector with image metadata in payload.\n",
    "    \"\"\"\n",
    "    client = QdrantClient(url=qdrant_url)\n",
    "\n",
    "    # Create / reset collection (ArcFace = 512 dims)\n",
    "    client.recreate_collection(\n",
    "        collection_name=collection_name,\n",
    "        vectors_config=models.VectorParams(size=512, distance=models.Distance.COSINE)\n",
    "    )\n",
    "\n",
    "    # Collect all images in folder\n",
    "    image_paths = glob.glob(os.path.join(parent_dir, \"*.[jJpP][pPnN]*[gG]\"))\n",
    "    print(f\"🔍 Found {len(image_paths)} images\")\n",
    "\n",
    "    all_points = []\n",
    "    for image_id, image_path in enumerate(image_paths, start=1):\n",
    "        print(f\"\\n🖼️  Processing image {image_id}: {os.path.basename(image_path)}\")\n",
    "        \n",
    "        try:\n",
    "            faces = extract_faces_and_embeddings(image_path)\n",
    "            print(f\"   ✅ Found {len(faces)} faces\")\n",
    "            \n",
    "            for face_idx, face in enumerate(faces):\n",
    "                # Generate proper UUID\n",
    "                point_id = str(uuid.uuid4())\n",
    "                print(f\"   📝 Adding face {face_idx + 1} with ID: {point_id}\")\n",
    "                \n",
    "                all_points.append(models.PointStruct(\n",
    "                    id=point_id,  # Proper UUID\n",
    "                    vector=face[\"embedding\"],\n",
    "                    payload={\n",
    "                        \"image_id\": image_id,\n",
    "                        \"image_url\": os.path.abspath(image_path),\n",
    "                        \"face_index\": face_idx\n",
    "                    }\n",
    "                ))\n",
    "        except Exception as e:\n",
    "            print(f\"   ❌ Error processing {image_path}: {e}\")\n",
    "\n",
    "    print(f\"\\n📊 Total points collected: {len(all_points)}\")\n",
    "    \n",
    "    if len(all_points) == 0:\n",
    "        print(\"❌ No points to upload!\")\n",
    "        return\n",
    "\n",
    "    # Upload to Qdrant\n",
    "    print(f\"⬆️  Uploading {len(all_points)} points to Qdrant...\")\n",
    "    client.upsert(collection_name=collection_name, points=all_points)\n",
    "\n",
    "    print(f\"✅ Inserted {len(all_points)} faces from {len(image_paths)} images into collection '{collection_name}'\")"
   ]
  },
  {
   "cell_type": "code",
   "execution_count": 5,
   "id": "796662e0",
   "metadata": {},
   "outputs": [
    {
     "name": "stdout",
     "output_type": "stream",
     "text": [
      "📁 Directory: ../data/query_images/\n",
      "📊 Collection: faces_collection\n",
      "🚀 Running push_directory_to_qdrant...\n",
      "🔍 Found 2 images\n",
      "\n",
      "🖼️  Processing image 1: 27c3e45a-57a4-473a-a927-ccb5f048de12.JPG\n",
      "   ✅ Found 4 faces\n",
      "   📝 Adding face 1 with ID: 5ba13da4-5153-49d9-9b59-76e5d7f76e5b\n",
      "   📝 Adding face 2 with ID: ae75c6e3-5853-4203-a30a-7db0e8bf4601\n",
      "   📝 Adding face 3 with ID: 14c9f021-4849-4cde-9dac-ef01d170b562\n",
      "   📝 Adding face 4 with ID: 3e580924-1759-4c42-984d-5544bd0004f0\n",
      "\n",
      "🖼️  Processing image 2: query.JPG\n",
      "   ✅ Found 4 faces\n",
      "   📝 Adding face 1 with ID: 62fae2f6-2562-4630-b790-9d60df65ce97\n",
      "   📝 Adding face 2 with ID: b82ed537-bf30-47ac-a351-56b4fdd28b01\n",
      "   📝 Adding face 3 with ID: b12be720-5e94-4e86-a697-0c124acae81c\n",
      "   📝 Adding face 4 with ID: cfbfc29a-5530-4854-a77f-2de50feb08d7\n",
      "\n",
      "📊 Total points collected: 8\n",
      "⬆️  Uploading 8 points to Qdrant...\n",
      "✅ Inserted 8 faces from 2 images into collection 'faces_collection'\n",
      "✅ Function completed!\n"
     ]
    }
   ],
   "source": [
    "# Test with verbose output\n",
    "parent_dir = \"../data/query_images/\"\n",
    "collection_name = \"faces_collection\"\n",
    "\n",
    "print(f\"📁 Directory: {parent_dir}\")\n",
    "print(f\"📊 Collection: {collection_name}\")\n",
    "print(\"🚀 Running push_directory_to_qdrant...\")\n",
    "\n",
    "push_directory_to_qdrant(parent_dir, collection_name)\n",
    "\n",
    "print(\"✅ Function completed!\")"
   ]
  },
  {
   "cell_type": "markdown",
   "id": "54a58aee",
   "metadata": {},
   "source": [
    "Function to find how many faces are detected in each image"
   ]
  },
  {
   "cell_type": "code",
   "execution_count": 7,
   "id": "0d92c428",
   "metadata": {},
   "outputs": [],
   "source": [
    "# def count_faces_per_image(collection_name=\"faces_collection\"):\n",
    "#     \"\"\"Count how many faces were detected for each image\"\"\"\n",
    "#     client = QdrantClient(url=\"http://localhost:6333\")\n",
    "    \n",
    "#     # Get all points\n",
    "#     points = client.scroll(collection_name=collection_name, limit=1000)\n",
    "    \n",
    "#     # Count faces per image\n",
    "#     face_counts = {}\n",
    "#     for point in points[0]:\n",
    "#         image_url = point.payload['image_url']\n",
    "#         image_name = os.path.basename(image_url)\n",
    "        \n",
    "#         if image_name not in face_counts:\n",
    "#             face_counts[image_name] = 0\n",
    "#         face_counts[image_name] += 1\n",
    "    \n",
    "#     # Display results\n",
    "#     print(\"📊 Faces detected per image:\")\n",
    "#     for image_name, count in face_counts.items():\n",
    "#         print(f\"  {image_name}: {count} faces\")\n",
    "    \n",
    "#     return face_counts\n",
    "\n",
    "# # Run it\n",
    "# count_faces_per_image()"
   ]
  },
  {
   "cell_type": "code",
   "execution_count": null,
   "id": "53ad0701",
   "metadata": {},
   "outputs": [],
   "source": []
  }
 ],
 "metadata": {
  "kernelspec": {
   "display_name": "Python 3",
   "language": "python",
   "name": "python3"
  },
  "language_info": {
   "codemirror_mode": {
    "name": "ipython",
    "version": 3
   },
   "file_extension": ".py",
   "mimetype": "text/x-python",
   "name": "python",
   "nbconvert_exporter": "python",
   "pygments_lexer": "ipython3",
   "version": "3.12.9"
  }
 },
 "nbformat": 4,
 "nbformat_minor": 5
}
